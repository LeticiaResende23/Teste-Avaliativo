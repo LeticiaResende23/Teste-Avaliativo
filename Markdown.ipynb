{
 "cells": [
  {
   "cell_type": "markdown",
   "metadata": {},
   "source": [
    "## Análise Quantitativa\n",
    "\n",
    "A análise quantitativa foi realizada sobre as colunas numéricas do conjunto de dados para identificar tendências e variações nos indicadores principais. As análises analisadas incluem:\n",
    "\n",
    "## Média :\n",
    "- Representa o valor médio dos dados em cada coluna numérica.\n",
    "- Interpretação : Útil para identificar o comportamento central da variável.\n",
    "\n",
    "## Mediana :\n",
    "- Indica o valor central dos dados, sendo menos sensível a outliers em comparação com a média.\n",
    "- Interpretação : Reflete o ponto médio da distribuição.\n",
    "\n",
    "## Desvio Padrão :\n",
    "- Mede a dispersão dos dados em relação à média.\n",
    "- Interpretação : Valores altos indicam maior variabilidade, enquanto valores baixos indicam consistência nos dados.\n",
    "\n",
    "## Gráficos Apresentados :\n",
    "\n",
    "Gráficos de Barras :\n",
    "- Cada gráfico apresenta comparações entre a mídia , mediana e desvio padrão para as colunas numéricas, permitindo visualizar padrões e discrepâncias nos indicadores.\n",
    "\n",
    "## Principais Descobertas :\n",
    "- A média e a mediana de algumas colunas apresentaram diferenças significativas, comparando distribuições assimétricas.\n",
    "Colunas com desvio padrão elevado sugerem alta variabilidade nos dados, exigindo uma análise mais detalhada.\n",
    "\n",
    "\n",
    "# Análise Qualitativa\n",
    "A análise qualitativa focou na identificação de inconsistências no conjunto de dados, como valores nulos e duplicados.\n",
    "\n",
    "## Valores Nulos :\n",
    "Algumas colunas contêm valores ausentes, colocando possíveis problemas na coleta ou preenchimento dos dados.\n",
    "\n",
    "Resultados :\n",
    "- coluna_exemplo_1: 10 valores nulos.\n",
    "- coluna_exemplo_2: 5 valores nulos.\n",
    "\n",
    "Impacto :\n",
    "- Colunas com valores nulos podem comprometer a confiabilidade da análise e limitar o uso dessas variáveis ​​em modelos estatísticos.\n",
    "\n",
    "Resultados :\n",
    "- Não foi encontrado nenhuma duplicada.\n",
    "\n",
    "## Gráficos Apresentados :\n",
    "\n",
    "Gráfico de Pizza: Valores Nulos :\n",
    "- Mostra a proporção de valores nulos em relação ao total de valores disponíveis por coluna.\n",
    "\n",
    "Gráfico de Pizza: Duplicatas :\n",
    "- Exiba a proporção entre linhas duplicadas e linhas únicas."
   ]
  }
 ],
 "metadata": {
  "language_info": {
   "name": "python"
  }
 },
 "nbformat": 4,
 "nbformat_minor": 2
}
